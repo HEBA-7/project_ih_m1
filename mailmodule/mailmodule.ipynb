{
 "cells": [
  {
   "cell_type": "code",
   "execution_count": null,
   "id": "b7f4244f",
   "metadata": {},
   "outputs": [],
   "source": [
    "import smtplib\n",
    "import imghdr\n",
    "from email.message import EmailMessage\n",
    "Sender_Email = \"halima.elbadoui@gmail.com\"\n",
    "Reciever_Email = \"halima.elbadoui@gmail.com\"\n",
    "Password = 'rwyimdcgusfiuxft'\n",
    "newMessage = EmailMessage()                         \n",
    "newMessage['Subject'] = \"Check out the distance of school\" \n",
    "newMessage['From'] = Sender_Email                   \n",
    "newMessage['To'] = Reciever_Email                   \n",
    "newMessage.set_content('Hey, here you have the distance from your school to the closet Bicimad tation!') \n",
    "files = ['bicimad_coles_escuelas.csv']\n",
    "\n",
    "for file in files:\n",
    "    with open(file, 'rb') as f:\n",
    "        file_data = f.read()\n",
    "        file_name = file\n",
    "    newMessage.add_attachment(file_data, maintype='application', subtype='octet-stream', filename=file_name)\n",
    "    \n",
    "with smtplib.SMTP_SSL('smtp.gmail.com', 465) as smtp:\n",
    "    \n",
    "        smtp.login(Sender_Email, Password)\n",
    "        smtp.send_message(newMessage)        "
   ]
  },
  {
   "cell_type": "code",
   "execution_count": null,
   "id": "6ca99fd8",
   "metadata": {},
   "outputs": [],
   "source": []
  }
 ],
 "metadata": {
  "kernelspec": {
   "display_name": "Python [conda env:p_m1]",
   "language": "python",
   "name": "conda-env-p_m1-py"
  },
  "language_info": {
   "codemirror_mode": {
    "name": "ipython",
    "version": 3
   },
   "file_extension": ".py",
   "mimetype": "text/x-python",
   "name": "python",
   "nbconvert_exporter": "python",
   "pygments_lexer": "ipython3",
   "version": "3.10.5"
  }
 },
 "nbformat": 4,
 "nbformat_minor": 5
}
